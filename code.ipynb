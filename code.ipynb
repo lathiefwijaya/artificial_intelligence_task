{
 "cells": [
  {
   "cell_type": "markdown",
   "id": "c0089892",
   "metadata": {},
   "source": [
    "# DBSCAN For Clustering\n",
    "This is clustering algorithm using DBSCAN Method <br><br>\n",
    "Created by: <br>\n",
    "Lathief Nurmahmudi WIjaya <br>\n",
    "20/456099/TK/50229"
   ]
  },
  {
   "cell_type": "code",
   "execution_count": null,
   "id": "d1f62b9d",
   "metadata": {},
   "outputs": [],
   "source": [
    "# Getting datasheet from Kaggle\n"
   ]
  },
  {
   "cell_type": "code",
   "execution_count": null,
   "id": "09078005",
   "metadata": {},
   "outputs": [],
   "source": [
    "# Initializing parameters\n",
    "r = 10       # radius\n",
    "m = 100      # minimum points"
   ]
  },
  {
   "cell_type": "code",
   "execution_count": null,
   "id": "2910d017",
   "metadata": {},
   "outputs": [],
   "source": [
    "Main algorithm of DBSCAN"
   ]
  }
 ],
 "metadata": {
  "kernelspec": {
   "display_name": "Python 3 (ipykernel)",
   "language": "python",
   "name": "python3"
  },
  "language_info": {
   "codemirror_mode": {
    "name": "ipython",
    "version": 3
   },
   "file_extension": ".py",
   "mimetype": "text/x-python",
   "name": "python",
   "nbconvert_exporter": "python",
   "pygments_lexer": "ipython3",
   "version": "3.9.6"
  }
 },
 "nbformat": 4,
 "nbformat_minor": 5
}
